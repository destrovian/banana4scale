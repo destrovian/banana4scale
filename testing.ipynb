{
 "cells": [
  {
   "cell_type": "code",
   "execution_count": 1,
   "metadata": {},
   "outputs": [],
   "source": [
    "import yfinance as yf\n",
    "from datetime import datetime, timedelta\n",
    "import pandas as pd\n",
    "from matplotlib import pyplot as plt\n"
   ]
  },
  {
   "cell_type": "code",
   "execution_count": 48,
   "metadata": {},
   "outputs": [
    {
     "data": {
      "text/plain": [
       "Date\n",
       "1992-10-26 00:00:00-05:00    0.003125\n",
       "1993-01-26 00:00:00-05:00    0.003125\n",
       "1993-04-26 00:00:00-04:00    0.003125\n",
       "1993-07-26 00:00:00-04:00    0.003125\n",
       "1993-10-26 00:00:00-04:00    0.003125\n",
       "                               ...   \n",
       "2023-05-04 00:00:00-04:00    0.125000\n",
       "2023-08-04 00:00:00-04:00    0.125000\n",
       "2023-11-06 00:00:00-05:00    0.125000\n",
       "2024-02-06 00:00:00-05:00    0.125000\n",
       "2024-05-06 00:00:00-04:00    0.125000\n",
       "Name: Dividends, Length: 127, dtype: float64"
      ]
     },
     "execution_count": 48,
     "metadata": {},
     "output_type": "execute_result"
    }
   ],
   "source": [
    "stock = yf.Ticker(\"INTC\")\n",
    "stock.dividends"
   ]
  },
  {
   "cell_type": "code",
   "execution_count": 49,
   "metadata": {},
   "outputs": [
    {
     "data": {
      "text/plain": [
       "8"
      ]
     },
     "execution_count": 49,
     "metadata": {},
     "output_type": "execute_result"
    }
   ],
   "source": [
    "news = stock.news\n",
    "len(news)"
   ]
  },
  {
   "cell_type": "code",
   "execution_count": 50,
   "metadata": {},
   "outputs": [
    {
     "name": "stdout",
     "output_type": "stream",
     "text": [
      "Title: Why Intel Stock Plummeted Again Today\n",
      "Sentiment: {'neg': 0.0, 'neu': 1.0, 'pos': 0.0, 'compound': 0.0}\n",
      "Link: https://finance.yahoo.com/m/825e3b66-3d5f-3cd2-b4e1-83d6bef795be/why-intel-stock-plummeted.html\n",
      "Published: 1722898713\n",
      "--------------------------------------------------------------------------------\n",
      "Title: This Artificial Intelligence (AI) Company Might End Up Being Nvidia's Biggest Competitor (Hint: It's Not AMD)\n",
      "Sentiment: {'neg': 0.0, 'neu': 0.829, 'pos': 0.171, 'compound': 0.4767}\n",
      "Link: https://finance.yahoo.com/m/28d7d92b-2757-3bf4-bf86-d2c239edb07e/this-artificial-intelligence.html\n",
      "Published: 1722895620\n",
      "--------------------------------------------------------------------------------\n",
      "Title: Intel Is Pausing Its Dividend, But These Dividend-Paying Semiconductor Stocks Won't Let You Down\n",
      "Sentiment: {'neg': 0.0, 'neu': 1.0, 'pos': 0.0, 'compound': 0.0}\n",
      "Link: https://finance.yahoo.com/news/intel-pausing-dividend-dividend-paying-220036127.html\n",
      "Published: 1722895236\n",
      "--------------------------------------------------------------------------------\n",
      "Title: S&P 500 Gains and Losses Today: Index Falls 3% as Economic Concerns Intensify\n",
      "Sentiment: {'neg': 0.168, 'neu': 0.683, 'pos': 0.149, 'compound': -0.0772}\n",
      "Link: https://finance.yahoo.com/m/f47906e3-74c2-3772-abf5-8442fa235adb/s%26p-500-gains-and-losses.html\n",
      "Published: 1722894532\n",
      "--------------------------------------------------------------------------------\n",
      "Title: Intel Stock Extends Losses as Analysts Say Chipmaker Faces 'Formidable Hurdles'\n",
      "Sentiment: {'neg': 0.205, 'neu': 0.682, 'pos': 0.114, 'compound': -0.296}\n",
      "Link: https://finance.yahoo.com/m/389f083e-78f2-32f4-aa8f-353a07d233f3/intel-stock-extends-losses-as.html\n",
      "Published: 1722890428\n",
      "--------------------------------------------------------------------------------\n",
      "Title: These Stocks Moved the Most Today: Nvidia, Super Micro, Apple, Intel, Palantir, Amazon, and More\n",
      "Sentiment: {'neg': 0.0, 'neu': 0.689, 'pos': 0.311, 'compound': 0.7063}\n",
      "Link: https://finance.yahoo.com/m/5fd31a61-1b59-39a6-87e0-724ec5bd7d3e/these-stocks-moved-the-most.html\n",
      "Published: 1722889980\n",
      "--------------------------------------------------------------------------------\n",
      "Title: AI Chip Startup Groq Gets $2.8 Billion Valuation in New Funding Round\n",
      "Sentiment: {'neg': 0.0, 'neu': 1.0, 'pos': 0.0, 'compound': 0.0}\n",
      "Link: https://finance.yahoo.com/news/ai-chip-startup-groq-gets-110015211.html\n",
      "Published: 1722874381\n",
      "--------------------------------------------------------------------------------\n",
      "Title: Midday movers: Apple, Nvidia, Intel, Coinbase and Moderna fall\n",
      "Sentiment: {'neg': 0.0, 'neu': 1.0, 'pos': 0.0, 'compound': 0.0}\n",
      "Link: https://finance.yahoo.com/news/apple-nvidia-intel-coinbase-moderna-111453082.html\n",
      "Published: 1722872222\n",
      "--------------------------------------------------------------------------------\n"
     ]
    }
   ],
   "source": [
    "from vaderSentiment.vaderSentiment import SentimentIntensityAnalyzer\n",
    "\n",
    "# Initialize the sentiment analyzer\n",
    "analyzer = SentimentIntensityAnalyzer()\n",
    "\n",
    "# Analyze sentiment for each news article\n",
    "for article in news:\n",
    "    title = article['title']\n",
    "    link = article['link']\n",
    "    published = article['providerPublishTime']\n",
    "    sentiment = analyzer.polarity_scores(title)\n",
    "    print(f\"Title: {title}\")\n",
    "    print(f\"Sentiment: {sentiment}\")\n",
    "    print(f\"Link: {link}\")\n",
    "    print(f\"Published: {published}\")\n",
    "    print('-' * 80)"
   ]
  },
  {
   "cell_type": "code",
   "execution_count": null,
   "metadata": {},
   "outputs": [],
   "source": [
    "\n",
    "# List of stock tickers for different markets\n",
    "stock_tickers = {\n",
    "    \"US\": [\"AAPL\", \"MSFT\", \"GOOGL\"],       # Example US stocks\n",
    "    \"EU\": [\"VOW3.DE\", \"AIR.PA\", \"BMW.DE\"], # Example European stocks (Germany and France)\n",
    "    \"CH\": [\"NESN.SW\", \"NOVN.SW\", \"ROG.SW\"] # Example Swiss stocks\n",
    "}\n",
    "\n",
    "# Function to fetch stock data for a given ticker\n",
    "def fetch_stock_data(ticker, start_date, end_date):\n",
    "    stock = yf.Ticker(ticker)\n",
    "    hist_data = stock.history(start=start_date, end=end_date)\n",
    "    return hist_data\n",
    "\n",
    "if __name__ == \"__main__\":\n",
    "    # Define date range: last 30 days\n",
    "    today = datetime.now()\n",
    "    start_date = '2000-01-01'\n",
    "    end_date = today.strftime('%Y-%m-%d')\n",
    "\n",
    "    # Fetch data for each ticker and save to CSV\n",
    "    for market, tickers in stock_tickers.items():\n",
    "        for ticker in tickers:\n",
    "            try:\n",
    "                print(f\"Fetching data for {ticker}...\")\n",
    "                data = fetch_stock_data(ticker, start_date, end_date)\n",
    "                if not data.empty:\n",
    "                    data.to_csv(f'data/{ticker}_data.csv')\n",
    "                    plt.plot(data['Data'], data['Close'])\n",
    "                    plt.show()\n",
    "                    print(f\"Data for {ticker} saved successfully.\")\n",
    "                else:\n",
    "                    print(f\"No data found for {ticker}.\")\n",
    "            except Exception as e:\n",
    "                print(f\"Failed to fetch data for {ticker}: {e}\")\n"
   ]
  }
 ],
 "metadata": {
  "kernelspec": {
   "display_name": "base",
   "language": "python",
   "name": "python3"
  },
  "language_info": {
   "codemirror_mode": {
    "name": "ipython",
    "version": 3
   },
   "file_extension": ".py",
   "mimetype": "text/x-python",
   "name": "python",
   "nbconvert_exporter": "python",
   "pygments_lexer": "ipython3",
   "version": "3.12.3"
  }
 },
 "nbformat": 4,
 "nbformat_minor": 2
}
